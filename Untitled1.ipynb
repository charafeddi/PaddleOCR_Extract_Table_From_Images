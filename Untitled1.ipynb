{
 "cells": [
  {
   "cell_type": "code",
   "execution_count": 3,
   "id": "04d48675-13cb-47d2-8cab-287c5271270e",
   "metadata": {},
   "outputs": [
    {
     "ename": "ImportError",
     "evalue": "cannot import name '_plain_int' from 'werkzeug._internal' (C:\\Users\\CHARAF\\anaconda3\\Lib\\site-packages\\werkzeug\\_internal.py)",
     "output_type": "error",
     "traceback": [
      "\u001b[1;31m---------------------------------------------------------------------------\u001b[0m",
      "\u001b[1;31mImportError\u001b[0m                               Traceback (most recent call last)",
      "Cell \u001b[1;32mIn[3], line 5\u001b[0m\n\u001b[0;32m      3\u001b[0m \u001b[38;5;28;01mfrom\u001b[39;00m \u001b[38;5;21;01mpaddleocr\u001b[39;00m \u001b[38;5;28;01mimport\u001b[39;00m PaddleOCR, draw_ocr\n\u001b[0;32m      4\u001b[0m \u001b[38;5;28;01mimport\u001b[39;00m \u001b[38;5;21;01mpandas\u001b[39;00m \u001b[38;5;28;01mas\u001b[39;00m \u001b[38;5;21;01mpd\u001b[39;00m\n\u001b[1;32m----> 5\u001b[0m \u001b[38;5;28;01mfrom\u001b[39;00m \u001b[38;5;21;01mflask\u001b[39;00m \u001b[38;5;28;01mimport\u001b[39;00m Flask, request, jsonify\n\u001b[0;32m      6\u001b[0m \u001b[38;5;28;01mfrom\u001b[39;00m \u001b[38;5;21;01mwerkzeug\u001b[39;00m\u001b[38;5;21;01m.\u001b[39;00m\u001b[38;5;21;01mutils\u001b[39;00m \u001b[38;5;28;01mimport\u001b[39;00m secure_filename\n\u001b[0;32m      7\u001b[0m \u001b[38;5;28;01mimport\u001b[39;00m \u001b[38;5;21;01mos\u001b[39;00m\n",
      "File \u001b[1;32m~\\anaconda3\\Lib\\site-packages\\flask\\__init__.py:4\u001b[0m\n\u001b[0;32m      1\u001b[0m \u001b[38;5;28;01mfrom\u001b[39;00m \u001b[38;5;21;01mmarkupsafe\u001b[39;00m \u001b[38;5;28;01mimport\u001b[39;00m escape\n\u001b[0;32m      2\u001b[0m \u001b[38;5;28;01mfrom\u001b[39;00m \u001b[38;5;21;01mmarkupsafe\u001b[39;00m \u001b[38;5;28;01mimport\u001b[39;00m Markup\n\u001b[1;32m----> 4\u001b[0m \u001b[38;5;28;01mfrom\u001b[39;00m \u001b[38;5;21;01m.\u001b[39;00m \u001b[38;5;28;01mimport\u001b[39;00m json \u001b[38;5;28;01mas\u001b[39;00m json\n\u001b[0;32m      5\u001b[0m \u001b[38;5;28;01mfrom\u001b[39;00m \u001b[38;5;21;01m.\u001b[39;00m\u001b[38;5;21;01mapp\u001b[39;00m \u001b[38;5;28;01mimport\u001b[39;00m Flask \u001b[38;5;28;01mas\u001b[39;00m Flask\n\u001b[0;32m      6\u001b[0m \u001b[38;5;28;01mfrom\u001b[39;00m \u001b[38;5;21;01m.\u001b[39;00m\u001b[38;5;21;01mapp\u001b[39;00m \u001b[38;5;28;01mimport\u001b[39;00m Request \u001b[38;5;28;01mas\u001b[39;00m Request\n",
      "File \u001b[1;32m~\\anaconda3\\Lib\\site-packages\\flask\\json\\__init__.py:8\u001b[0m\n\u001b[0;32m      4\u001b[0m \u001b[38;5;28;01mimport\u001b[39;00m \u001b[38;5;21;01mtyping\u001b[39;00m \u001b[38;5;28;01mas\u001b[39;00m \u001b[38;5;21;01mt\u001b[39;00m\n\u001b[0;32m      6\u001b[0m \u001b[38;5;28;01mfrom\u001b[39;00m \u001b[38;5;21;01mjinja2\u001b[39;00m\u001b[38;5;21;01m.\u001b[39;00m\u001b[38;5;21;01mutils\u001b[39;00m \u001b[38;5;28;01mimport\u001b[39;00m htmlsafe_json_dumps \u001b[38;5;28;01mas\u001b[39;00m _jinja_htmlsafe_dumps\n\u001b[1;32m----> 8\u001b[0m \u001b[38;5;28;01mfrom\u001b[39;00m \u001b[38;5;21;01m.\u001b[39;00m\u001b[38;5;21;01m.\u001b[39;00m\u001b[38;5;21;01mglobals\u001b[39;00m \u001b[38;5;28;01mimport\u001b[39;00m current_app\n\u001b[0;32m      9\u001b[0m \u001b[38;5;28;01mfrom\u001b[39;00m \u001b[38;5;21;01m.\u001b[39;00m\u001b[38;5;21;01mprovider\u001b[39;00m \u001b[38;5;28;01mimport\u001b[39;00m _default\n\u001b[0;32m     11\u001b[0m \u001b[38;5;28;01mif\u001b[39;00m t\u001b[38;5;241m.\u001b[39mTYPE_CHECKING:  \u001b[38;5;66;03m# pragma: no cover\u001b[39;00m\n",
      "File \u001b[1;32m~\\anaconda3\\Lib\\site-packages\\flask\\globals.py:4\u001b[0m\n\u001b[0;32m      1\u001b[0m \u001b[38;5;28;01mimport\u001b[39;00m \u001b[38;5;21;01mtyping\u001b[39;00m \u001b[38;5;28;01mas\u001b[39;00m \u001b[38;5;21;01mt\u001b[39;00m\n\u001b[0;32m      2\u001b[0m \u001b[38;5;28;01mfrom\u001b[39;00m \u001b[38;5;21;01mcontextvars\u001b[39;00m \u001b[38;5;28;01mimport\u001b[39;00m ContextVar\n\u001b[1;32m----> 4\u001b[0m \u001b[38;5;28;01mfrom\u001b[39;00m \u001b[38;5;21;01mwerkzeug\u001b[39;00m\u001b[38;5;21;01m.\u001b[39;00m\u001b[38;5;21;01mlocal\u001b[39;00m \u001b[38;5;28;01mimport\u001b[39;00m LocalProxy\n\u001b[0;32m      6\u001b[0m \u001b[38;5;28;01mif\u001b[39;00m t\u001b[38;5;241m.\u001b[39mTYPE_CHECKING:  \u001b[38;5;66;03m# pragma: no cover\u001b[39;00m\n\u001b[0;32m      7\u001b[0m     \u001b[38;5;28;01mfrom\u001b[39;00m \u001b[38;5;21;01m.\u001b[39;00m\u001b[38;5;21;01mapp\u001b[39;00m \u001b[38;5;28;01mimport\u001b[39;00m Flask\n",
      "File \u001b[1;32m~\\anaconda3\\Lib\\site-packages\\werkzeug\\__init__.py:2\u001b[0m\n\u001b[0;32m      1\u001b[0m \u001b[38;5;28;01mfrom\u001b[39;00m \u001b[38;5;21;01m.\u001b[39;00m\u001b[38;5;21;01mserving\u001b[39;00m \u001b[38;5;28;01mimport\u001b[39;00m run_simple \u001b[38;5;28;01mas\u001b[39;00m run_simple\n\u001b[1;32m----> 2\u001b[0m \u001b[38;5;28;01mfrom\u001b[39;00m \u001b[38;5;21;01m.\u001b[39;00m\u001b[38;5;21;01mtest\u001b[39;00m \u001b[38;5;28;01mimport\u001b[39;00m Client \u001b[38;5;28;01mas\u001b[39;00m Client\n\u001b[0;32m      3\u001b[0m \u001b[38;5;28;01mfrom\u001b[39;00m \u001b[38;5;21;01m.\u001b[39;00m\u001b[38;5;21;01mwrappers\u001b[39;00m \u001b[38;5;28;01mimport\u001b[39;00m Request \u001b[38;5;28;01mas\u001b[39;00m Request\n\u001b[0;32m      4\u001b[0m \u001b[38;5;28;01mfrom\u001b[39;00m \u001b[38;5;21;01m.\u001b[39;00m\u001b[38;5;21;01mwrappers\u001b[39;00m \u001b[38;5;28;01mimport\u001b[39;00m Response \u001b[38;5;28;01mas\u001b[39;00m Response\n",
      "File \u001b[1;32m~\\anaconda3\\Lib\\site-packages\\werkzeug\\test.py:19\u001b[0m\n\u001b[0;32m     17\u001b[0m \u001b[38;5;28;01mfrom\u001b[39;00m \u001b[38;5;21;01m.\u001b[39;00m\u001b[38;5;21;01m_internal\u001b[39;00m \u001b[38;5;28;01mimport\u001b[39;00m _wsgi_decoding_dance\n\u001b[0;32m     18\u001b[0m \u001b[38;5;28;01mfrom\u001b[39;00m \u001b[38;5;21;01m.\u001b[39;00m\u001b[38;5;21;01m_internal\u001b[39;00m \u001b[38;5;28;01mimport\u001b[39;00m _wsgi_encoding_dance\n\u001b[1;32m---> 19\u001b[0m \u001b[38;5;28;01mfrom\u001b[39;00m \u001b[38;5;21;01m.\u001b[39;00m\u001b[38;5;21;01mdatastructures\u001b[39;00m \u001b[38;5;28;01mimport\u001b[39;00m Authorization\n\u001b[0;32m     20\u001b[0m \u001b[38;5;28;01mfrom\u001b[39;00m \u001b[38;5;21;01m.\u001b[39;00m\u001b[38;5;21;01mdatastructures\u001b[39;00m \u001b[38;5;28;01mimport\u001b[39;00m CallbackDict\n\u001b[0;32m     21\u001b[0m \u001b[38;5;28;01mfrom\u001b[39;00m \u001b[38;5;21;01m.\u001b[39;00m\u001b[38;5;21;01mdatastructures\u001b[39;00m \u001b[38;5;28;01mimport\u001b[39;00m CombinedMultiDict\n",
      "File \u001b[1;32m~\\anaconda3\\Lib\\site-packages\\werkzeug\\datastructures\\__init__.py:11\u001b[0m\n\u001b[0;32m      9\u001b[0m \u001b[38;5;28;01mfrom\u001b[39;00m \u001b[38;5;21;01m.\u001b[39;00m\u001b[38;5;21;01mcsp\u001b[39;00m \u001b[38;5;28;01mimport\u001b[39;00m ContentSecurityPolicy \u001b[38;5;28;01mas\u001b[39;00m ContentSecurityPolicy\n\u001b[0;32m     10\u001b[0m \u001b[38;5;28;01mfrom\u001b[39;00m \u001b[38;5;21;01m.\u001b[39;00m\u001b[38;5;21;01metag\u001b[39;00m \u001b[38;5;28;01mimport\u001b[39;00m ETags \u001b[38;5;28;01mas\u001b[39;00m ETags\n\u001b[1;32m---> 11\u001b[0m \u001b[38;5;28;01mfrom\u001b[39;00m \u001b[38;5;21;01m.\u001b[39;00m\u001b[38;5;21;01mfile_storage\u001b[39;00m \u001b[38;5;28;01mimport\u001b[39;00m FileMultiDict \u001b[38;5;28;01mas\u001b[39;00m FileMultiDict\n\u001b[0;32m     12\u001b[0m \u001b[38;5;28;01mfrom\u001b[39;00m \u001b[38;5;21;01m.\u001b[39;00m\u001b[38;5;21;01mfile_storage\u001b[39;00m \u001b[38;5;28;01mimport\u001b[39;00m FileStorage \u001b[38;5;28;01mas\u001b[39;00m FileStorage\n\u001b[0;32m     13\u001b[0m \u001b[38;5;28;01mfrom\u001b[39;00m \u001b[38;5;21;01m.\u001b[39;00m\u001b[38;5;21;01mheaders\u001b[39;00m \u001b[38;5;28;01mimport\u001b[39;00m EnvironHeaders \u001b[38;5;28;01mas\u001b[39;00m EnvironHeaders\n",
      "File \u001b[1;32m~\\anaconda3\\Lib\\site-packages\\werkzeug\\datastructures\\file_storage.py:8\u001b[0m\n\u001b[0;32m      5\u001b[0m \u001b[38;5;28;01mfrom\u001b[39;00m \u001b[38;5;21;01mos\u001b[39;00m \u001b[38;5;28;01mimport\u001b[39;00m fsdecode\n\u001b[0;32m      6\u001b[0m \u001b[38;5;28;01mfrom\u001b[39;00m \u001b[38;5;21;01mos\u001b[39;00m \u001b[38;5;28;01mimport\u001b[39;00m fspath\n\u001b[1;32m----> 8\u001b[0m \u001b[38;5;28;01mfrom\u001b[39;00m \u001b[38;5;21;01m.\u001b[39;00m\u001b[38;5;21;01m.\u001b[39;00m\u001b[38;5;21;01m_internal\u001b[39;00m \u001b[38;5;28;01mimport\u001b[39;00m _plain_int\n\u001b[0;32m      9\u001b[0m \u001b[38;5;28;01mfrom\u001b[39;00m \u001b[38;5;21;01m.\u001b[39;00m\u001b[38;5;21;01mstructures\u001b[39;00m \u001b[38;5;28;01mimport\u001b[39;00m MultiDict\n\u001b[0;32m     12\u001b[0m \u001b[38;5;28;01mclass\u001b[39;00m \u001b[38;5;21;01mFileStorage\u001b[39;00m:\n",
      "\u001b[1;31mImportError\u001b[0m: cannot import name '_plain_int' from 'werkzeug._internal' (C:\\Users\\CHARAF\\anaconda3\\Lib\\site-packages\\werkzeug\\_internal.py)"
     ]
    }
   ],
   "source": [
    "import cv2\n",
    "import numpy as np\n",
    "from paddleocr import PaddleOCR, draw_ocr\n",
    "import pandas as pd\n",
    "from flask import Flask, request, jsonify\n",
    "from werkzeug.utils import secure_filename\n",
    "import os\n",
    "import tensorflow as tf\n",
    "import logging\n",
    "from flask_cors import CORS\n"
   ]
  },
  {
   "cell_type": "code",
   "execution_count": 4,
   "id": "6082911d-034c-45c7-b30d-ba4a3b56b262",
   "metadata": {},
   "outputs": [
    {
     "name": "stdout",
     "output_type": "stream",
     "text": [
      "C:\\Users\\CHARAF\\anaconda3\\python.exe\n",
      "['C:\\\\Users\\\\CHARAF\\\\anaconda3\\\\Lib\\\\site-packages\\\\paddleocr', 'C:\\\\Users\\\\CHARAF\\\\anaconda3\\\\Lib\\\\site-packages\\\\paddleocr', 'C:\\\\Users\\\\CHARAF\\\\anaconda3\\\\Lib\\\\site-packages\\\\paddleocr\\\\ppstructure', 'C:\\\\Users\\\\CHARAF\\\\anaconda3\\\\Lib\\\\site-packages\\\\paddleocr', 'C:\\\\Users\\\\CHARAF\\\\anaconda3\\\\Lib\\\\site-packages\\\\paddleocr', 'C:\\\\Users\\\\CHARAF\\\\anaconda3\\\\Lib\\\\site-packages\\\\paddleocr', 'C:\\\\Users\\\\CHARAF\\\\anaconda3\\\\Lib\\\\site-packages\\\\paddleocr', 'C:\\\\Users\\\\CHARAF\\\\anaconda3\\\\Lib\\\\site-packages\\\\paddleocr', 'C:\\\\Users\\\\CHARAF\\\\anaconda3\\\\Lib\\\\site-packages\\\\paddleocr', 'C:\\\\Users\\\\CHARAF\\\\AppData\\\\Roaming\\\\Python\\\\Python311\\\\site-packages\\\\paddle\\\\base\\\\..\\\\libs', 'D:\\\\2023-2024\\\\final project\\\\charaf\\\\OCR model', 'C:\\\\Users\\\\CHARAF\\\\anaconda3\\\\python311.zip', 'C:\\\\Users\\\\CHARAF\\\\anaconda3\\\\DLLs', 'C:\\\\Users\\\\CHARAF\\\\anaconda3\\\\Lib', 'C:\\\\Users\\\\CHARAF\\\\anaconda3', '', 'C:\\\\Users\\\\CHARAF\\\\AppData\\\\Roaming\\\\Python\\\\Python311\\\\site-packages', 'C:\\\\Users\\\\CHARAF\\\\anaconda3\\\\Lib\\\\site-packages', 'C:\\\\Users\\\\CHARAF\\\\anaconda3\\\\Lib\\\\site-packages\\\\win32', 'C:\\\\Users\\\\CHARAF\\\\anaconda3\\\\Lib\\\\site-packages\\\\win32\\\\lib', 'C:\\\\Users\\\\CHARAF\\\\anaconda3\\\\Lib\\\\site-packages\\\\Pythonwin', 'C:\\\\Users\\\\CHARAF\\\\anaconda3\\\\Lib\\\\site-packages\\\\paddleocr\\\\', 'C:\\\\Users\\\\CHARAF\\\\anaconda3\\\\Lib\\\\site-packages\\\\paddleocr\\\\tools\\\\infer', 'C:\\\\Users\\\\CHARAF\\\\anaconda3\\\\Lib\\\\site-packages\\\\paddleocr\\\\tools\\\\infer', 'C:\\\\Users\\\\CHARAF\\\\anaconda3\\\\Lib\\\\site-packages\\\\paddleocr\\\\ppocr\\\\postprocess', 'C:\\\\Users\\\\CHARAF\\\\anaconda3\\\\Lib\\\\site-packages\\\\paddleocr\\\\ppocr\\\\postprocess\\\\..', 'C:\\\\Users\\\\CHARAF\\\\anaconda3\\\\Lib\\\\site-packages\\\\paddleocr\\\\ppocr\\\\postprocess', 'C:\\\\Users\\\\CHARAF\\\\anaconda3\\\\Lib\\\\site-packages\\\\paddleocr\\\\ppocr\\\\postprocess\\\\..', 'C:\\\\Users\\\\CHARAF\\\\anaconda3\\\\Lib\\\\site-packages\\\\paddleocr\\\\ppocr\\\\utils\\\\e2e_utils', 'C:\\\\Users\\\\CHARAF\\\\anaconda3\\\\Lib\\\\site-packages\\\\paddleocr\\\\ppocr\\\\utils\\\\e2e_utils\\\\..', 'C:\\\\Users\\\\CHARAF\\\\anaconda3\\\\Lib\\\\site-packages\\\\paddleocr\\\\tools\\\\infer', 'C:\\\\Users\\\\CHARAF\\\\anaconda3\\\\Lib\\\\site-packages\\\\paddleocr', 'C:\\\\Users\\\\CHARAF\\\\anaconda3\\\\Lib\\\\site-packages\\\\paddleocr\\\\tools\\\\infer', 'C:\\\\Users\\\\CHARAF\\\\anaconda3\\\\Lib\\\\site-packages\\\\paddleocr\\\\ppstructure', 'C:\\\\Users\\\\CHARAF\\\\anaconda3\\\\Lib\\\\site-packages\\\\paddleocr\\\\ppstructure\\\\layout', 'C:\\\\Users\\\\CHARAF\\\\anaconda3\\\\Lib\\\\site-packages\\\\paddleocr\\\\ppstructure\\\\table', 'C:\\\\Users\\\\CHARAF\\\\anaconda3\\\\Lib\\\\site-packages\\\\paddleocr\\\\ppstructure\\\\table']\n"
     ]
    }
   ],
   "source": [
    "import sys\n",
    "print(sys.executable)\n",
    "print(sys.path)\n"
   ]
  },
  {
   "cell_type": "code",
   "execution_count": null,
   "id": "22b28482-0909-4700-a5e8-5b6a163ba693",
   "metadata": {},
   "outputs": [],
   "source": []
  }
 ],
 "metadata": {
  "kernelspec": {
   "display_name": "Python 3 (ipykernel)",
   "language": "python",
   "name": "python3"
  },
  "language_info": {
   "codemirror_mode": {
    "name": "ipython",
    "version": 3
   },
   "file_extension": ".py",
   "mimetype": "text/x-python",
   "name": "python",
   "nbconvert_exporter": "python",
   "pygments_lexer": "ipython3",
   "version": "3.11.7"
  }
 },
 "nbformat": 4,
 "nbformat_minor": 5
}
